{
  "cells": [
    {
      "cell_type": "markdown",
      "source": [
        "## IgA-SeqPAT 16S OTU\n",
        "Author: Victoria Ruiz & Thomas Battaglia"
      ],
      "metadata": {}
    },
    {
      "cell_type": "markdown",
      "source": [
        "### Introduction\n",
        "This Notebook is meant to contain the 16S_OTU data found within the respective manuscript. It contains only the code used to generate the figures found within the main text. This entire dataset is publically available in QIITA under the ID [10527](https://qiita.ucsd.edu/study/description/10527). More details about the procedures used to generate the data can be found within the **Methods** section of the manuscript. The table found within the data folder has been processed to remove any OTU less than 0.01% relative abudance.\n",
        "\n"
      ],
      "metadata": {}
    },
    {
      "cell_type": "markdown",
      "source": [
        "### Generate Beta diversity PCoA's (Figure S3-a)\n",
        "This command generates an HTML file that uses the program Emperor to view 3D PCoA data. The file `analysis/betadiv/unweighted_unifrac_emperor_pcoa_plot/index.html` is the output used to generate the figure within the manuscript."
      ],
      "metadata": {}
    },
    {
      "cell_type": "code",
      "source": [
        "# Make a folder to store the analysis\n",
        "mkdir -p analysis/bdiv\n",
        "\n",
        "# Run bdiv through plots\n",
        "beta_diversity.py \\\n",
        "-i data/igaseq_otutable_n0001.biom \\\n",
        "-o analysis/bdiv \\\n",
        "-m unweighted_unifrac,weighted_unifrac \\\n",
        "-t data/rep_set.tre"
      ],
      "outputs": [],
      "execution_count": 13,
      "metadata": {
        "collapsed": false,
        "outputHidden": false,
        "inputHidden": false
      }
    },
    {
      "cell_type": "code",
      "source": [
        "# Generate PCoA from distance matrix\n",
        "principal_coordinates.py \\\n",
        "-i analysis/bdiv/unweighted_unifrac_igaseq_otutable_n0001.txt \\\n",
        "-o analysis/bdiv/uw_bdiv_pcoa.txt"
      ],
      "outputs": [],
      "execution_count": 14,
      "metadata": {
        "collapsed": false,
        "outputHidden": false,
        "inputHidden": false
      }
    },
    {
      "cell_type": "code",
      "source": [
        "# Make an emperor 3-D file from PCoA\n",
        "## Plot with custom axis\n",
        "make_emperor.py \\\n",
        "-i analysis/bdiv/uw_bdiv_pcoa.txt \\\n",
        "-o analysis/bdiv/emperor_plot \\\n",
        "-m data/igaseq_mapping.txt \\\n",
        "--custom_axes Day_after_transfer \\\n",
        "--number_of_segments 14"
      ],
      "outputs": [],
      "execution_count": 23,
      "metadata": {
        "collapsed": false,
        "outputHidden": false,
        "inputHidden": false
      }
    },
    {
      "cell_type": "markdown",
      "source": [
        "### Generate Beta diversity PCoA's (Figure S3-b)\n",
        "These commands will generate the graphs found within the multi-panel figure 3e. The command must be run on each of the 6 permutations. The final PDF is composed of multiple plots across the different Treatment groups and IgA fractions."
      ],
      "metadata": {}
    },
    {
      "cell_type": "code",
      "source": [
        "# Split otu-table by treatment and fractions\n",
        "split_otu_table.py \\\n",
        "-i data/igaseq_otutable_n0001.biom \\\n",
        "-o data/per_study_otu_tables \\\n",
        "-m data/igaseq_mapping.txt \\\n",
        "-f Treatment,Fraction"
      ],
      "outputs": [],
      "execution_count": 16,
      "metadata": {
        "collapsed": false,
        "outputHidden": false,
        "inputHidden": false
      }
    },
    {
      "cell_type": "code",
      "source": [
        "# Make a folder to store the results\n",
        "mkdir -p analysis/taxa_plots/"
      ],
      "outputs": [],
      "execution_count": 17,
      "metadata": {
        "collapsed": false,
        "outputHidden": false,
        "inputHidden": false
      }
    },
    {
      "cell_type": "code",
      "source": [
        "# Plot barplot with only Control-IgA-Negative\n",
        "summarize_taxa_through_plots.py \\\n",
        "-i data/per_study_otu_tables/igaseq_otutable_n0001__Treatment_Control_Fraction_IgA-__.biom \\\n",
        "-o analysis/taxa_plots/control_negative \\\n",
        "-m data/per_study_otu_tables/igaseq_mapping__Treatment_Control_Fraction_IgA-__.txt \\\n",
        "-c Day_after_transfer_tissue \\\n",
        "-p scripts/parameters.txt \\\n",
        "--sort \n",
        "\n",
        "# Plot barplot with only Control-IgA-Positive\n",
        "summarize_taxa_through_plots.py \\\n",
        "-i data/per_study_otu_tables/igaseq_otutable_n0001__Treatment_Control_Fraction_IgA+__.biom \\\n",
        "-o analysis/taxa_plots/control_positive \\\n",
        "-m data/per_study_otu_tables/igaseq_mapping__Treatment_Control_Fraction_IgA+__.txt \\\n",
        "-c Day_after_transfer_tissue \\\n",
        "-p scripts/parameters.txt \\\n",
        "--sort \n",
        "\n",
        "# Plot barplot with only Control-IgA-Total\n",
        "summarize_taxa_through_plots.py \\\n",
        "-i data/per_study_otu_tables/igaseq_otutable_n0001__Treatment_Control_Fraction_Total__.biom \\\n",
        "-o analysis/taxa_plots/control_total \\\n",
        "-m data/per_study_otu_tables/igaseq_mapping__Treatment_Control_Fraction_Total__.txt \\\n",
        "-c Day_after_transfer_tissue \\\n",
        "-p scripts/parameters.txt \\\n",
        "--sort "
      ],
      "outputs": [],
      "execution_count": 18,
      "metadata": {
        "collapsed": false,
        "outputHidden": false,
        "inputHidden": false
      }
    },
    {
      "cell_type": "code",
      "source": [
        "# Plot barplot with only PAT-IgA-Negative\n",
        "summarize_taxa_through_plots.py \\\n",
        "-i data/per_study_otu_tables/igaseq_otutable_n0001__Treatment_PAT_Fraction_IgA-__.biom \\\n",
        "-o analysis/taxa_plots/pat_negative \\\n",
        "-m data/per_study_otu_tables/igaseq_mapping__Treatment_PAT_Fraction_IgA-__.txt \\\n",
        "-c Day_after_transfer_tissue \\\n",
        "-p scripts/parameters.txt \\\n",
        "--sort \n",
        "\n",
        "# Plot barplot with only PAT-IgA-Positive\n",
        "summarize_taxa_through_plots.py \\\n",
        "-i data/per_study_otu_tables/igaseq_otutable_n0001__Treatment_PAT_Fraction_IgA+__.biom \\\n",
        "-o analysis/taxa_plots/pat_positive \\\n",
        "-m data/per_study_otu_tables/igaseq_mapping__Treatment_PAT_Fraction_IgA+__.txt \\\n",
        "-c Day_after_transfer_tissue \\\n",
        "-p scripts/parameters.txt \\\n",
        "--sort \n",
        "\n",
        "# Plot barplot with only PAT-IgA-Total\n",
        "summarize_taxa_through_plots.py \\\n",
        "-i data/per_study_otu_tables/igaseq_otutable_n0001__Treatment_PAT_Fraction_Total__.biom \\\n",
        "-o analysis/taxa_plots/pat_total \\\n",
        "-m data/per_study_otu_tables/igaseq_mapping__Treatment_PAT_Fraction_Total__.txt \\\n",
        "-c Day_after_transfer_tissue \\\n",
        "-p scripts/parameters.txt \\\n",
        "--sort "
      ],
      "outputs": [],
      "execution_count": null,
      "metadata": {
        "collapsed": false,
        "outputHidden": false,
        "inputHidden": false
      }
    },
    {
      "cell_type": "markdown",
      "source": [
        "### Differentially abundant taxa with LEfSe (Figure S3-d)\n",
        "These commands will generate the raw data to be used to make the heatmap-style taxa list in the supplemental **Figure S1-d**. A custom tool called **Koeken** was developed to more easily run the **LEfSe** tool on the commands line, over multiple timepoints. Installation can be found [Koeken (Github)](https://github.com/twbattaglia/koeken). The resulting folder contains the intermediate file from running **LEfSe**. THe final table was imported into R and a heatmap was created using the **aheatmap** R library."
      ],
      "metadata": {}
    },
    {
      "cell_type": "code",
      "source": [
        "# Make directory to store results\n",
        "mkdir -p analysis/lefse/\n",
        "\n",
        "# Run Koeken between Control vs PAT1 pups\n",
        "koeken.py \\\n",
        "-i data/igaseq_otutable_n0001.biom \\\n",
        "-o analysis/lefse/control_pat_igapos_overtime \\\n",
        "-m data/igaseq_mapping.txt \\\n",
        "--class Treat_Frac \\\n",
        "--split Day_after_transfer_tissue \\\n",
        "--compare Control_IgA+ PAT_IgA+ \\\n",
        "--level 7"
      ],
      "outputs": [],
      "execution_count": 21,
      "metadata": {
        "collapsed": false,
        "outputHidden": false,
        "inputHidden": false
      }
    },
    {
      "cell_type": "code",
      "source": [
        "# Beautify by collating to a heatmap-ish\n",
        "pretty_lefse.py \\\n",
        "-i analysis/lefse/control_pat_igapos_overtime/lefse_output/run_lefse \\\n",
        "-o analysis/lefse/control_pat_igapos_overtime/heatmap/ \\\n",
        "-c Control_IgA+"
      ],
      "outputs": [],
      "execution_count": 22,
      "metadata": {
        "collapsed": false,
        "outputHidden": false,
        "inputHidden": false
      }
    },
    {
      "cell_type": "markdown",
      "source": [
        "### Average ICI score between IgA-postive and IgA-negative taxa (Figure S3-c)\n"
      ],
      "metadata": {}
    },
    {
      "cell_type": "code",
      "source": [],
      "outputs": [],
      "execution_count": null,
      "metadata": {
        "collapsed": false,
        "outputHidden": false,
        "inputHidden": false
      }
    }
  ],
  "metadata": {
    "anaconda-cloud": {},
    "kernelspec": {
      "name": "bash",
      "language": "bash",
      "display_name": "Bash"
    },
    "language_info": {
      "mimetype": "text/x-sh",
      "file_extension": ".sh",
      "name": "bash",
      "codemirror_mode": "shell"
    },
    "kernel_info": {
      "name": "bash"
    }
  },
  "nbformat": 4,
  "nbformat_minor": 1
}