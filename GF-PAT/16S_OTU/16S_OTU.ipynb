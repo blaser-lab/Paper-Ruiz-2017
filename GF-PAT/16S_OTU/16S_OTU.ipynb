{
  "cells": [
    {
      "cell_type": "markdown",
      "source": [
        "## Germ-free-PAT 16S OTU\n",
        "Author: Victoria Ruiz & Thomas Battaglia"
      ],
      "metadata": {}
    },
    {
      "cell_type": "markdown",
      "source": [
        "### Introduction\n",
        "This Notebook is meant to contain the 16S_OTU data found within the respective manuscript. It contains only the code used to generate the figures found within the main text. This entire dataset is publically available in QIITA under the ID [10527](https://qiita.ucsd.edu/study/description/10527). More details about the procedures used to generate the data can be found within the **Methods** section of the manuscript. The table found within the data folder has been processed to remove any OTU less than 0.01% relative abudance. This table does not include the germ-free samples.\n",
        "\n"
      ],
      "metadata": {}
    },
    {
      "cell_type": "markdown",
      "source": [
        "### Generate alpha diversity metrics for barplots (Figure 3b)\n",
        "These commands will generate the alpha diversity values to re-create **Figure 3b**. Faiths Phylogenetic Diversity is first calculated and sumamrized into Treatment and Timepoints with Mean and SD. This data was placed into PRISM 7 to be graphed. The table used to make the PRISM plot is found in `analysis/alphadiv/pd_tree_summarized.txt`"
      ],
      "metadata": {}
    },
    {
      "cell_type": "code",
      "source": [
        "# Make directory to store results\n",
        "mkdir -p analysis/alphadiv/\n",
        "\n",
        "# Generate Faiths PD/Shannon values for all samples\n",
        "alpha_diversity.py \\\n",
        "-i data/gfPAT_otutable_m0001.biom \\\n",
        "-o analysis/alphadiv/alpha_diversity.txt \\\n",
        "-m PD_whole_tree,shannon \\\n",
        "-t data/rep_set.tre"
      ],
      "outputs": [],
      "execution_count": 8,
      "metadata": {
        "collapsed": false,
        "outputHidden": false,
        "inputHidden": false
      }
    },
    {
      "cell_type": "code",
      "source": [
        "# Add alpha diversity to the mapping file\n",
        " add_alpha_to_mapping_file.py \\\n",
        " -i analysis/alphadiv/alpha_diversity.txt \\\n",
        " -o data/gfPAT_mapping_file_walpha.txt \\\n",
        " -m data/gfPAT_mapping_file.txt"
      ],
      "outputs": [],
      "execution_count": 9,
      "metadata": {
        "collapsed": false,
        "outputHidden": false,
        "inputHidden": false
      }
    },
    {
      "cell_type": "code",
      "source": [
        "# Summarize the data for use with PRISM\n",
        "## Final table used to generate plot\n",
        "Rscript scripts/alpha_for_prism.R \\\n",
        "-i data/gfPAT_mapping_file_walpha.txt \\\n",
        "-o analysis/alphadiv/pd_tree_summarized.txt \\\n",
        "--group Group \\\n",
        "--time Type_of_sample \\\n",
        "--alpha PD_whole_tree_alpha"
      ],
      "outputs": [],
      "execution_count": 10,
      "metadata": {
        "collapsed": false,
        "outputHidden": false,
        "inputHidden": false
      }
    },
    {
      "cell_type": "markdown",
      "source": [
        "### Generate beta diversity PCoA's (Figure 3c)\n",
        "This command generates an HTML file that uses the program Emperor to view 3D PCoA data. The file `analysis/betadiv/unweighted_unifrac_emperor_pcoa_plot/index.html` is the output used to generate the figure within the manuscript."
      ],
      "metadata": {}
    },
    {
      "cell_type": "code",
      "source": [
        "# Run bdiv through plots\n",
        "beta_diversity_through_plots.py \\\n",
        "-i data/gfPAT_otutable_m0001.biom \\\n",
        "-o analysis/betadiv_pcoa/ \\\n",
        "-t data/rep_set.tre \\\n",
        "-m data/gfPAT_mapping_file.txt"
      ],
      "outputs": [],
      "execution_count": 16,
      "metadata": {
        "collapsed": false,
        "outputHidden": false,
        "inputHidden": false
      }
    },
    {
      "cell_type": "code",
      "source": [
        "# Make a folder to store results\n",
        "mkdir -p analysis/betadiv_pcoa/Fecal_D21_stats\n",
        "\n",
        "# Filter to keep only Fecal (D21) samples and compute ADONIS\n",
        "filter_distance_matrix.py \\\n",
        "-i analysis/betadiv_pcoa/unweighted_unifrac_dm.txt \\\n",
        "-o analysis/betadiv_pcoa/Fecal_D21_stats/uw_unifrac_dm_Fecal.txt \\\n",
        "-m data/gfPAT_mapping_file.txt \\\n",
        "-s \"Type_of_sample:Fecal\"\n",
        "\n",
        "# Run ADONIS test\n",
        "compare_categories.py \\\n",
        "-i analysis/betadiv_pcoa/Fecal_D21_stats/uw_unifrac_dm_Fecal.txt \\\n",
        "-o analysis/betadiv_pcoa/Fecal_D21_stats/ \\\n",
        "-m data/gfPAT_mapping_file.txt \\\n",
        "-c Treatment_Sex \\\n",
        "--method adonis \\\n",
        "-n 999"
      ],
      "outputs": [],
      "execution_count": 17,
      "metadata": {
        "collapsed": false,
        "outputHidden": false,
        "inputHidden": false
      }
    },
    {
      "cell_type": "code",
      "source": [
        "# Make a folder to store results\n",
        "mkdir -p analysis/betadiv_pcoa/Colon_stats\n",
        "\n",
        "# Filter to keep only Colon samples and compute ADONIS\n",
        "filter_distance_matrix.py \\\n",
        "-i analysis/betadiv_pcoa/unweighted_unifrac_dm.txt \\\n",
        "-o analysis/betadiv_pcoa/Colon_stats/uw_unifrac_dm_Colon.txt \\\n",
        "-m data/gfPAT_mapping_file.txt \\\n",
        "-s \"Type_of_sample:Colon\"\n",
        "\n",
        "# Run ADONIS test\n",
        "compare_categories.py \\\n",
        "-i analysis/betadiv_pcoa/Colon_stats/uw_unifrac_dm_Colon.txt \\\n",
        "-o analysis/betadiv_pcoa/Colon_stats/ \\\n",
        "-m data/gfPAT_mapping_file.txt \\\n",
        "-c Treatment_Sex \\\n",
        "--method adonis \\\n",
        "-n 999"
      ],
      "outputs": [],
      "execution_count": 18,
      "metadata": {
        "collapsed": false,
        "outputHidden": false,
        "inputHidden": false
      }
    }
  ],
  "metadata": {
    "anaconda-cloud": {},
    "kernelspec": {
      "name": "bash",
      "language": "bash",
      "display_name": "Bash"
    },
    "language_info": {
      "mimetype": "text/x-sh",
      "file_extension": ".sh",
      "name": "bash",
      "codemirror_mode": "shell"
    },
    "kernel_info": {
      "name": "bash"
    }
  },
  "nbformat": 4,
  "nbformat_minor": 1
}