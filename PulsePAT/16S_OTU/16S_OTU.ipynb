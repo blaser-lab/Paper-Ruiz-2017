{
  "cells": [
    {
      "cell_type": "markdown",
      "source": [
        "## PulsePAT- 16S OTU\n",
        "Author: Victoria Ruiz & Thomas Battaglia"
      ],
      "metadata": {}
    },
    {
      "cell_type": "markdown",
      "source": [
        "### Introduction\n",
        "This Notebook is meant to contain the 16S_OTU data found within the respective manuscript. It contains only the code used to generate the figures found within the main text. This entire dataset is publically available in QIITA under the ID [10527](https://qiita.ucsd.edu/study/description/10527). More details about the procedures used to generate the data can be found within the **Methods** section of the manuscript. The table found within the data folder has been processed to remove any OTU less than 0.01% relative abudance.\n",
        "\n"
      ],
      "metadata": {}
    },
    {
      "cell_type": "markdown",
      "source": [
        "### Filter the table to only show fecal samples"
      ],
      "metadata": {}
    },
    {
      "cell_type": "code",
      "source": [
        "# Keep only fecal samples for analyses\n",
        "filter_samples_from_otu_table.py \\\n",
        "-i data/pulsePAT_m0001.biom \\\n",
        "-o data/pulsePAT_m0001_fecal.biom \\\n",
        "-m data/pulsePAT_mapping.txt \\\n",
        "--output_mapping_fp data/pulsePAT_mapping_fecal.txt \\\n",
        "-s \"Type_of_sample:Fecal\""
      ],
      "outputs": [],
      "execution_count": 48,
      "metadata": {
        "collapsed": true
      }
    },
    {
      "cell_type": "markdown",
      "source": [
        "### Generate Alpha Diveristy Metrics (Figure 1b)\n",
        "These commands will generate the alpha diversity values to re-create **Figure 1b**. Faiths Phylogenetic Diversity is first calculated and sumamrized into Treatment and Timepoints with Mean and SEM. This data was placed into PRISM 7 to be graphed. The table used to make the PRISM plot is found in `analysis/alphadiv/pd_tree_summarized.txt`"
      ],
      "metadata": {}
    },
    {
      "cell_type": "code",
      "source": [
        "# Make directory to store results\n",
        "mkdir -p analysis/alphadiv/\n",
        "\n",
        "# Generate alpha diversity values for all samples\n",
        "alpha_diversity.py \\\n",
        "-i data/pulsePAT_m0001_fecal.biom \\\n",
        "-o analysis/alphadiv/pd_whole_tree.txt \\\n",
        "-m PD_whole_tree \\\n",
        "-t data/rep_set.tre"
      ],
      "outputs": [],
      "execution_count": 51,
      "metadata": {
        "collapsed": false,
        "outputHidden": false,
        "inputHidden": false
      }
    },
    {
      "cell_type": "code",
      "source": [
        "# Add alpha diversity to the mapping file\n",
        " add_alpha_to_mapping_file.py \\\n",
        " -i analysis/alphadiv/pd_whole_tree.txt \\\n",
        " -o data/pulsePAT_mapping_fecal_walpha.txt \\\n",
        " -m data/pulsePAT_mapping_fecal.txt"
      ],
      "outputs": [],
      "execution_count": 52,
      "metadata": {
        "collapsed": false,
        "outputHidden": false,
        "inputHidden": false
      }
    },
    {
      "cell_type": "code",
      "source": [
        "# Summarize the data for use with PRISM\n",
        "## Final table used to generate plot\n",
        "Rscript scripts/alpha_for_prism.R \\\n",
        "-i data/pulsePAT_mapping_fecal_walpha.txt \\\n",
        "-o analysis/alphadiv/pd_tree_summarized.txt \\\n",
        "--group Treatment \\\n",
        "--time Day_of_life \\\n",
        "--alpha PD_whole_tree_alpha"
      ],
      "outputs": [],
      "execution_count": 53,
      "metadata": {
        "collapsed": false,
        "outputHidden": false,
        "inputHidden": false
      }
    },
    {
      "cell_type": "markdown",
      "source": [
        "### Generate PCoA of Beta-diveristy metrics (Figure 1c)\n",
        "This command generates an HTML file that uses the program Emperor to view 3D PCoA data. The file `analysis/betadiv/unweighted_unifrac_emperor_pcoa_plot/index.html` is the output used to generate the figure within the manuscript."
      ],
      "metadata": {}
    },
    {
      "cell_type": "code",
      "source": [
        "# Run bdiv through plots\n",
        "beta_diversity_through_plots.py \\\n",
        "-i data/pulsePAT_m0001_fecal.biom \\\n",
        "-o analysis/betadiv_pcoa/ \\\n",
        "-t data/rep_set.tre \\\n",
        "-m data/pulsePAT_mapping_fecal.txt "
      ],
      "outputs": [],
      "execution_count": 54,
      "metadata": {
        "collapsed": false,
        "outputHidden": false,
        "inputHidden": false
      }
    },
    {
      "cell_type": "markdown",
      "source": [
        "### Generate Beta-diversity comparisons (Figure 1d)"
      ],
      "metadata": {}
    },
    {
      "cell_type": "code",
      "source": [
        " # Generate pairwise values for Unweighted-UniFrac distances\n",
        "make_distance_boxplots.py \\\n",
        "-d analysis/betadiv_pcoa/unweighted_unifrac_dm.txt \\\n",
        "-o analysis/betadiv_barplot/ \\\n",
        "-m data/pulsePAT_mapping_fecal.txt \\\n",
        "-f \"Treatment\" \\\n",
        "--save_raw_data"
      ],
      "outputs": [],
      "execution_count": 55,
      "metadata": {
        "collapsed": false,
        "outputHidden": false,
        "inputHidden": false
      }
    },
    {
      "cell_type": "markdown",
      "source": [
        "### Make taxanomic abundance plots (Figure 1e)\n",
        "These commands will generate the graphs found within the multi-panel figure 3e. The command must be run on each of the 6 permutations. The final PDF is composed of multiple plots across the different Treatment groups and genders."
      ],
      "metadata": {}
    },
    {
      "cell_type": "code",
      "source": [
        "# Split the table by Treatment and Gender\n",
        "split_otu_table.py \\\n",
        "-i data/pulsePAT_m0001.biom \\\n",
        "-o data/per_study_otu_tables \\\n",
        "-m data/pulsePAT_mapping.txt \\\n",
        "-f Sex,Treatment"
      ],
      "outputs": [],
      "execution_count": 56,
      "metadata": {
        "collapsed": false,
        "outputHidden": false,
        "inputHidden": false
      }
    },
    {
      "cell_type": "code",
      "source": [
        "# Plot barplot with only Male-Control\n",
        "summarize_taxa_through_plots.py \\\n",
        "-i data/per_study_otu_tables/pulsePAT_m0001__Sex_Male_Treatment_Control__.biom \\\n",
        "-o analysis/taxa_plots/male_control \\\n",
        "-m data/per_study_otu_tables/pulsePAT_mapping__Sex_Male_Treatment_Control__.txt \\\n",
        "-c Day_of_life_tissue \\\n",
        "--sort \n",
        "\n",
        "# Plot barplot with only Male-PAT1\n",
        "summarize_taxa_through_plots.py \\\n",
        "-i data/per_study_otu_tables/pulsePAT_m0001__Sex_Male_Treatment_PAT1__.biom \\\n",
        "-o analysis/taxa_plots/male_pat1 \\\n",
        "-m data/per_study_otu_tables/pulsePAT_mapping__Sex_Male_Treatment_PAT1__.txt \\\n",
        "-c Day_of_life_tissue \\\n",
        "--sort \n",
        "\n",
        "# Plot barplot with only Male-PAT3\n",
        "summarize_taxa_through_plots.py \\\n",
        "-i data/per_study_otu_tables/pulsePAT_m0001__Sex_Male_Treatment_PAT3__.biom \\\n",
        "-o analysis/taxa_plots/male_pat3 \\\n",
        "-m data/per_study_otu_tables/pulsePAT_mapping__Sex_Male_Treatment_PAT3__.txt \\\n",
        "-c Day_of_life_tissue \\\n",
        "--sort \n",
        "\n",
        "# - - - - - - - - - - - - - - - - - - - - - - - - - - #\n",
        "\n",
        "# Plot barplot with only Female-Control\n",
        "summarize_taxa_through_plots.py \\\n",
        "-i data/per_study_otu_tables/pulsePAT_m0001__Sex_Female_Treatment_Control__.biom \\\n",
        "-o analysis/taxa_plots/female_control \\\n",
        "-m data/per_study_otu_tables/pulsePAT_mapping__Sex_Female_Treatment_Control__.txt \\\n",
        "-c Day_of_life_tissue \\\n",
        "--sort \n",
        "\n",
        "# Plot barplot with only Female-PAT1\n",
        "summarize_taxa_through_plots.py \\\n",
        "-i data/per_study_otu_tables/pulsePAT_m0001__Sex_Female_Treatment_PAT1__.biom \\\n",
        "-o analysis/taxa_plots/female_pat1 \\\n",
        "-m data/per_study_otu_tables/pulsePAT_mapping__Sex_Female_Treatment_PAT1__.txt \\\n",
        "-c Day_of_life_tissue \\\n",
        "--sort \n",
        "\n",
        "# Plot barplot with only Female-PAT3\n",
        "summarize_taxa_through_plots.py \\\n",
        "-i data/per_study_otu_tables/pulsePAT_m0001__Sex_Female_Treatment_PAT3__.biom \\\n",
        "-o analysis/taxa_plots/female_pat3 \\\n",
        "-m data/per_study_otu_tables/pulsePAT_mapping__Sex_Female_Treatment_PAT3__.txt \\\n",
        "-c Day_of_life_tissue \\\n",
        "--sort \n"
      ],
      "outputs": [],
      "execution_count": 57,
      "metadata": {
        "collapsed": false,
        "outputHidden": false,
        "inputHidden": false
      }
    }
  ],
  "metadata": {
    "anaconda-cloud": {},
    "kernelspec": {
      "name": "bash",
      "language": "bash",
      "display_name": "Bash"
    },
    "language_info": {
      "mimetype": "text/x-sh",
      "file_extension": ".sh",
      "name": "bash",
      "codemirror_mode": "shell"
    },
    "kernel_info": {
      "name": "bash"
    }
  },
  "nbformat": 4,
  "nbformat_minor": 1
}