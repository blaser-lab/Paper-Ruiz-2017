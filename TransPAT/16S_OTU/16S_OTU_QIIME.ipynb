{
  "cells": [
    {
      "cell_type": "markdown",
      "source": [
        "## TransPAT - 16S OTU\n",
        "Author: Victoria Ruiz & Thomas Battaglia"
      ],
      "metadata": {}
    },
    {
      "cell_type": "markdown",
      "source": [
        "### Introduction\n",
        "This Notebook is meant to contain the 16S_OTU data found within the respective manuscript. It contains only the code used to generate the figures found within the main text. This entire dataset is publically available in QIITA under the ID [10527](https://qiita.ucsd.edu/study/description/10527). More details about the procedures used to generate the data can be found within the **Methods** section of the manuscript. The table found within the data folder has been processed to remove any OTU less than 0.01% relative abundance."
      ],
      "metadata": {}
    },
    {
      "cell_type": "markdown",
      "source": [
        "### Make Taxanomic Abundance Plots (Figure 4d)\n",
        "These commands will generate the graphs found within the multi-panel **Figure 4d**. The command must be run on each of the 4 permutations. The final PDF is composed of multiple plots across the different Treatment groups and genders.\n",
        "\n**Note:** The barplot abundance coors were changed in post-processing after generating the figure. The colors were changed to highlight the important bacteria."
      ],
      "metadata": {}
    },
    {
      "cell_type": "code",
      "source": [
        "# Split the table by Treatment and Gender\n",
        "split_otu_table.py \\\n",
        "-i data/transfer_m0001.biom \\\n",
        "-o data/per_study_otu_tables \\\n",
        "-m data/transpat_mapping.txt \\\n",
        "-f Sex,Treatment"
      ],
      "outputs": [],
      "execution_count": 12,
      "metadata": {
        "collapsed": false,
        "outputHidden": false,
        "inputHidden": false
      }
    },
    {
      "cell_type": "code",
      "source": [
        "# Make a directory to store the results\n",
        "mkdir -p analysis/taxa_plots/\n",
        "\n",
        "# Plot barplot with only Male-Control\n",
        "summarize_taxa_through_plots.py \\\n",
        "-i data/per_study_otu_tables/transfer_m0001__Sex_Male_Treatment_Control__.biom \\\n",
        "-o analysis/taxa_plots/male_control \\\n",
        "-m data/per_study_otu_tables/transpat_mapping__Sex_Male_Treatment_Control__.txt \\\n",
        "-c Days_post_transfer \\\n",
        "--sort \n",
        "\n",
        "# Plot barplot with only Male-PAT\n",
        "summarize_taxa_through_plots.py \\\n",
        "-i data/per_study_otu_tables/transfer_m0001__Sex_Male_Treatment_PAT__.biom \\\n",
        "-o analysis/taxa_plots/male_pat1 \\\n",
        "-m data/per_study_otu_tables/transpat_mapping__Sex_Male_Treatment_PAT__.txt \\\n",
        "-c Days_post_transfer \\\n",
        "--sort \n",
        "\n",
        "# - - - - - - - - - - - - - - - - - - - - - - - - - - #\n",
        "\n",
        "# Plot barplot with only Female-Control\n",
        "summarize_taxa_through_plots.py \\\n",
        "-i data/per_study_otu_tables/transfer_m0001__Sex_Female_Treatment_Control__.biom \\\n",
        "-o analysis/taxa_plots/female_control \\\n",
        "-m data/per_study_otu_tables/transpat_mapping__Sex_Female_Treatment_Control__.txt \\\n",
        "-c Days_post_transfer \\\n",
        "--sort \n",
        "\n",
        "# Plot barplot with only Female-PAT\n",
        "summarize_taxa_through_plots.py \\\n",
        "-i data/per_study_otu_tables/transfer_m0001__Sex_Female_Treatment_PAT__.biom \\\n",
        "-o analysis/taxa_plots/female_pat1 \\\n",
        "-m data/per_study_otu_tables/transpat_mapping__Sex_Female_Treatment_PAT__.txt \\\n",
        "-c Days_post_transfer \\\n",
        "--sort "
      ],
      "outputs": [],
      "execution_count": 19,
      "metadata": {
        "collapsed": false,
        "outputHidden": false,
        "inputHidden": false
      }
    },
    {
      "cell_type": "markdown",
      "source": [
        "### Make Beta diversity PCoA (Figure 4f)\n",
        "These commands will generate the graphs found within the multi-panel **Figure 4f**. A 3D plot is generate using the Emperor tool. The figure was composed of multiple views generated with the plot. The file plot can be found within `analysis/bdiv_pcoa/unweighted_unifrac_emperor_pcoa_plot/index.html`"
      ],
      "metadata": {}
    },
    {
      "cell_type": "code",
      "source": [
        "# Create analysis folder\n",
        "mkdir -p analysis\n",
        "\n",
        "# Run beta diversity through plots\n",
        "beta_diversity_through_plots.py \\\n",
        "-i data/transfer_m0001.biom \\\n",
        "-o analysis/bdiv_pcoa \\\n",
        "-m data/transpat_mapping.txt \\\n",
        "-t data/rep_set.tre"
      ],
      "outputs": [
        {
          "output_type": "stream",
          "name": "stdout",
          "text": [
            "/Users/Tom/anaconda/lib/python2.7/site-packages/skbio/stats/ordination/_principal_coordinate_analysis.py:107: RuntimeWarning: The result contains negative eigenvalues. Please compare their magnitude with the magnitude of some of the largest positive eigenvalues. If the negative ones are smaller, it's probably safe to ignore them, but if they are large in magnitude, the results won't be useful. See the Notes section for more details. The smallest eigenvalue is -0.245345835017 and the largest is 6.17111203765.\n",
            "  RuntimeWarning\n",
            "/Users/Tom/anaconda/lib/python2.7/site-packages/skbio/stats/ordination/_principal_coordinate_analysis.py:107: RuntimeWarning: The result contains negative eigenvalues. Please compare their magnitude with the magnitude of some of the largest positive eigenvalues. If the negative ones are smaller, it's probably safe to ignore them, but if they are large in magnitude, the results won't be useful. See the Notes section for more details. The smallest eigenvalue is -0.0567082328081 and the largest is 5.13093808062.\n",
            "  RuntimeWarning\n"
          ]
        }
      ],
      "execution_count": 1,
      "metadata": {
        "collapsed": false,
        "outputHidden": false,
        "inputHidden": false
      }
    },
    {
      "cell_type": "markdown",
      "source": [
        "### Differentially abundant taxa with LEfSe (Figure S2-d)\n",
        "These commands will generate the raw data to be used to make the heatmap-style taxa list in the supplemental **Figure S2-d**. A custom tool called **Koeken** was developed to more easily run the **LEfSe** tool on the commands line, over multiple timepoints. Installation can be found [Koeken (Github)](https://github.com/twbattaglia/koeken). The resulting folder contains the intermediate file from running **LEfSe**. THe final table was imported into R and a heatmap was created using the **aheatmap** R library."
      ],
      "metadata": {}
    },
    {
      "cell_type": "code",
      "source": [
        "# Make a directory to store the results\n",
        "mkdir -p analysis/lefse\n",
        "\n",
        "# Run Koeken between Control vs PAT1 pups\n",
        "koeken.py \\\n",
        "-i data/transfer_m0001.biom \\\n",
        "-o analysis/lefse/control_pat_overtime \\\n",
        "-m data/transpat_mapping.txt \\\n",
        "--class Treatment \\\n",
        "--split Days_post_transfer \\\n",
        "--compare Control PAT \\\n",
        "--level 7"
      ],
      "outputs": [
        {
          "output_type": "stream",
          "name": "stdout",
          "text": [
            "Koeken v0.2.6: Linear Discriminant Analysis (LEfSe) on a Longitudinal Microbial Dataset.\n",
            "Written by Thomas W. Battaglia (tb1280@nyu.edu)\n",
            "\n",
            "LEfSe Credits: \"Metagenomic biomarker discovery and explanation\"\n",
            "Nicola Segata, Jacques Izard, Levi Waldron, Dirk Gevers, Larisa Miropolsky, Wendy S Garrett, and Curtis Huttenhower\n",
            "Genome Biology, 12:R60, 2011\n",
            "\n",
            "Running QIIME's summarize_taxa.py... \n",
            "\n",
            "Number of significantly discriminative features: 44 ( 44 ) before internal wilcoxon\n",
            "Number of discriminative features with abs LDA score > 2.0 : 44\n",
            "\n\n",
            "Number of significantly discriminative features: 6 ( 6 ) before internal wilcoxon\n",
            "Number of discriminative features with abs LDA score > 2.0 : 6\n",
            "\n\n",
            "Number of significantly discriminative features: 33 ( 33 ) before internal wilcoxon\n",
            "Number of discriminative features with abs LDA score > 2.0 : 33\n",
            "\n\n",
            "Number of significantly discriminative features: 30 ( 30 ) before internal wilcoxon\n",
            "Number of discriminative features with abs LDA score > 2.0 : 30\n",
            "\n\n",
            "Number of significantly discriminative features: 22 ( 22 ) before internal wilcoxon\n",
            "Number of discriminative features with abs LDA score > 2.0 : 22\n",
            "\n\n",
            "Number of significantly discriminative features: 28 ( 28 ) before internal wilcoxon\n",
            "Number of discriminative features with abs LDA score > 2.0 : 28\n",
            "\n\n",
            "Number of significantly discriminative features: 53 ( 53 ) before internal wilcoxon\n",
            "Number of discriminative features with abs LDA score > 2.0 : 53\n",
            "\n\n",
            "Number of significantly discriminative features: 38 ( 38 ) before internal wilcoxon\n",
            "Number of discriminative features with abs LDA score > 2.0 : 38\n",
            "\n\n",
            "Number of significantly discriminative features: 52 ( 52 ) before internal wilcoxon\n",
            "Number of discriminative features with abs LDA score > 2.0 : 52\n",
            "\n\n",
            "Number of significantly discriminative features: 38 ( 38 ) before internal wilcoxon\n",
            "Number of discriminative features with abs LDA score > 2.0 : 38\n",
            "\n\n",
            "Number of significantly discriminative features: 82 ( 82 ) before internal wilcoxon\n",
            "Number of discriminative features with abs LDA score > 2.0 : 82\n",
            "\n\n"
          ]
        }
      ],
      "execution_count": 3,
      "metadata": {
        "collapsed": false,
        "outputHidden": false,
        "inputHidden": false
      }
    },
    {
      "cell_type": "code",
      "source": [
        "## Prettify the output across timepoints\n",
        "pretty_lefse.py \\\n",
        "-i analysis/lefse/control_pat_overtime/lefse_output/run_lefse \\\n",
        "-o analysis/lefse/control_pat_overtime/control_pat_heatmap/ \\\n",
        "-c \"Control\""
      ],
      "outputs": [
        {
          "output_type": "stream",
          "name": "stdout",
          "text": [
            "Prettifing the table. Please wait...\n",
            "\n",
            "/Users/Tom/anaconda/lib/python2.7/site-packages/pandas/core/indexing.py:461: SettingWithCopyWarning: \n",
            "A value is trying to be set on a copy of a slice from a DataFrame.\n",
            "Try using .loc[row_indexer,col_indexer] = value instead\n",
            "\n",
            "See the caveats in the documentation: http://pandas.pydata.org/pandas-docs/stable/indexing.html#indexing-view-versus-copy\n",
            "  self.obj[item] = s\n"
          ]
        }
      ],
      "execution_count": 6,
      "metadata": {
        "collapsed": false,
        "outputHidden": false,
        "inputHidden": false
      }
    },
    {
      "cell_type": "code",
      "source": [],
      "outputs": [],
      "execution_count": null,
      "metadata": {
        "collapsed": false,
        "outputHidden": false,
        "inputHidden": false
      }
    }
  ],
  "metadata": {
    "anaconda-cloud": {},
    "kernelspec": {
      "name": "bash",
      "language": "bash",
      "display_name": "Bash"
    },
    "language_info": {
      "mimetype": "text/x-sh",
      "file_extension": ".sh",
      "name": "bash",
      "codemirror_mode": "shell"
    },
    "kernel_info": {
      "name": "bash"
    }
  },
  "nbformat": 4,
  "nbformat_minor": 1
}