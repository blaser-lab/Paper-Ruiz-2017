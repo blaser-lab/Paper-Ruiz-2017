{
  "cells": [
    {
      "cell_type": "markdown",
      "source": [
        "## TransPAT - 16S OTU\n",
        "Author: Victoria Ruiz & Thomas Battaglia"
      ],
      "metadata": {}
    },
    {
      "cell_type": "markdown",
      "source": [
        "### Introduction\n",
        "This Notebook is meant to contain the 16S_OTU data found within the respective manuscript. It contains only the code used to generate the figures found within the main text. This entire dataset is publically available in QIITA under the ID [10527](https://qiita.ucsd.edu/study/description/10527). More details about the procedures used to generate the data can be found within the **Methods** section of the manuscript. The table found within the data folder has been processed to remove any OTU less than 0.01% relative abundance."
      ],
      "metadata": {}
    },
    {
      "cell_type": "markdown",
      "source": [
        "### Make Taxanomic Abundance Plots (Figure 4d)\n",
        "These commands will generate the graphs found within the multi-panel **Figure 4d**. The command must be run on each of the 4 permutations. The final PDF is composed of multiple plots across the different Treatment groups and genders.\n",
        "\n**Note:** The barplot abundance coors were changed in post-processing after generating the figure. The colors were changed to highlight the important bacteria."
      ],
      "metadata": {}
    },
    {
      "cell_type": "code",
      "source": [
        "# Split the table by Treatment and Gender\n",
        "split_otu_table.py \\\n",
        "-i data/transfer_m0001.biom \\\n",
        "-o data/per_study_otu_tables \\\n",
        "-m data/transpat_mapping.txt \\\n",
        "-f Sex,Treatment"
      ],
      "outputs": [],
      "execution_count": 12,
      "metadata": {
        "collapsed": false,
        "outputHidden": false,
        "inputHidden": false
      }
    },
    {
      "cell_type": "code",
      "source": [
        "# Make a directory to store the results\n",
        "mkdir -p analysis/taxa_plots/\n",
        "\n",
        "# Plot barplot with only Male-Control\n",
        "summarize_taxa_through_plots.py \\\n",
        "-i data/per_study_otu_tables/transfer_m0001__Sex_Male_Treatment_Control__.biom \\\n",
        "-o analysis/taxa_plots/male_control \\\n",
        "-m data/per_study_otu_tables/transpat_mapping__Sex_Male_Treatment_Control__.txt \\\n",
        "-c Days_post_transfer \\\n",
        "--sort \n",
        "\n",
        "# Plot barplot with only Male-PAT\n",
        "summarize_taxa_through_plots.py \\\n",
        "-i data/per_study_otu_tables/transfer_m0001__Sex_Male_Treatment_PAT__.biom \\\n",
        "-o analysis/taxa_plots/male_pat1 \\\n",
        "-m data/per_study_otu_tables/transpat_mapping__Sex_Male_Treatment_PAT__.txt \\\n",
        "-c Days_post_transfer \\\n",
        "--sort \n",
        "\n",
        "# - - - - - - - - - - - - - - - - - - - - - - - - - - #\n",
        "\n",
        "# Plot barplot with only Female-Control\n",
        "summarize_taxa_through_plots.py \\\n",
        "-i data/per_study_otu_tables/transfer_m0001__Sex_Female_Treatment_Control__.biom \\\n",
        "-o analysis/taxa_plots/female_control \\\n",
        "-m data/per_study_otu_tables/transpat_mapping__Sex_Female_Treatment_Control__.txt \\\n",
        "-c Days_post_transfer \\\n",
        "--sort \n",
        "\n",
        "# Plot barplot with only Female-PAT\n",
        "summarize_taxa_through_plots.py \\\n",
        "-i data/per_study_otu_tables/transfer_m0001__Sex_Female_Treatment_PAT__.biom \\\n",
        "-o analysis/taxa_plots/female_pat1 \\\n",
        "-m data/per_study_otu_tables/transpat_mapping__Sex_Female_Treatment_PAT__.txt \\\n",
        "-c Days_post_transfer \\\n",
        "--sort "
      ],
      "outputs": [],
      "execution_count": 19,
      "metadata": {
        "collapsed": false,
        "outputHidden": false,
        "inputHidden": false
      }
    },
    {
      "cell_type": "markdown",
      "source": [
        "### Make Taxanomic Abundance Plots (Figure 4f)\n",
        "These commands will generate the graphs found within the multi-panel **Figure 4f**. A 3D plot is generate using the Emperor tool. The figure was composed of multiple views generated with the plot. The file plot can be found within `analysis/bdiv_pcoa/unweighted_unifrac_emperor_pcoa_plot/index.html`"
      ],
      "metadata": {}
    },
    {
      "cell_type": "code",
      "source": [
        "# Create analysis folder\n",
        "mkdir -p analysis\n",
        "\n",
        "# Run beta diversity through plots\n",
        "beta_diversity_through_plots.py \\\n",
        "-i data/transfer_m0001.biom \\\n",
        "-o analysis/bdiv_pcoa \\\n",
        "-m data/transpat_mapping.txt \\\n",
        "-t data/rep_set.tre"
      ],
      "outputs": [],
      "execution_count": 5,
      "metadata": {
        "collapsed": false,
        "outputHidden": false,
        "inputHidden": false
      }
    }
  ],
  "metadata": {
    "anaconda-cloud": {},
    "kernelspec": {
      "name": "bash",
      "language": "bash",
      "display_name": "Bash"
    },
    "language_info": {
      "mimetype": "text/x-sh",
      "file_extension": ".sh",
      "name": "bash",
      "codemirror_mode": "shell"
    },
    "kernel_info": {
      "name": "bash"
    }
  },
  "nbformat": 4,
  "nbformat_minor": 1
}